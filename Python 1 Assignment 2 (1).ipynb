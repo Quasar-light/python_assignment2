{
 "cells": [
  {
   "attachments": {},
   "cell_type": "markdown",
   "metadata": {},
   "source": [
    "# Coding Temple's Data Analytics Course\n",
    "---\n",
    "## Python 1: Assignment 2\n",
    "---"
   ]
  },
  {
   "attachments": {},
   "cell_type": "markdown",
   "metadata": {},
   "source": [
    "### **Task 1: List Comprehension**\n",
    "Given a list as a parameter, write a function named `less_than_10`, that uses list comprehension to returns the input list with all numbers less than 10."
   ]
  },
  {
   "cell_type": "code",
   "execution_count": null,
   "metadata": {},
   "outputs": [
    {
     "name": "stdout",
     "output_type": "stream",
     "text": [
      "[6.99, 2.99]\n"
     ]
    }
   ],
   "source": [
    "# YOUR CODE HERE\n",
    "\n",
    "#set variables to item prices/ create list of prices\n",
    "cost_shirt = 6.99\n",
    "cost_pants = 24.30\n",
    "cost_shoes = 40.00\n",
    "cost_hat = 10.00\n",
    "cost_ring = 2.99\n",
    "\n",
    "ls = [cost_shirt , cost_pants, cost_shoes, cost_hat, cost_ring]\n",
    "price = ls\n",
    "\n",
    "#create less_than_10 function\n",
    "def less_than_10():\n",
    "    item_cost = [prices for prices in price if prices < 10]    \n",
    "    print(item_cost)\n",
    "\n",
    "less_than_10()\n"
   ]
  },
  {
   "attachments": {},
   "cell_type": "markdown",
   "metadata": {},
   "source": [
    "### **Task 1 Testing**\n",
    "This cell is to test your task 1"
   ]
  },
  {
   "cell_type": "code",
   "execution_count": null,
   "metadata": {},
   "outputs": [],
   "source": [
    "# DO NOT EDIT THIS CELL\n",
    "a = [1,2,5,9,55,781,25,478,15,7,99]\n",
    "a_test = [1,2,5,9,7]\n",
    "assert less_than_10(a) == a_test, 'Double check that your function is working properly!'"
   ]
  },
  {
   "attachments": {},
   "cell_type": "markdown",
   "metadata": {},
   "source": [
    "### **Task 2: Merge**\n",
    "Write a function named `merge_lists` that takes two seperate lists as arguments and returns the two lists merged together AND sorted."
   ]
  },
  {
   "cell_type": "code",
   "execution_count": 102,
   "metadata": {},
   "outputs": [
    {
     "data": {
      "text/plain": [
       "[1, 2, 3, 4, 5, 6, 7, 8, 9, 10]"
      ]
     },
     "execution_count": 102,
     "metadata": {},
     "output_type": "execute_result"
    }
   ],
   "source": [
    "#YOUR CODE HERE\n",
    "\n",
    "#set values to list variables\n",
    "ls_1 = [2,4,6,8,10]\n",
    "ls_2 = [1,3,5,7,9]\n",
    "#m_sort = sorted(ls_1 + ls_2)\n",
    "\n",
    "#create function\n",
    "def merge_lists(a, b):\n",
    "    ms_ls = a + b\n",
    "    return sorted(ms_ls)\n",
    "    \n",
    "merge_lists(ls_1, ls_2)\n",
    "\n"
   ]
  },
  {
   "attachments": {},
   "cell_type": "markdown",
   "metadata": {},
   "source": [
    "### **Task 2 Testing**\n",
    "This cell is to test your task 2"
   ]
  },
  {
   "cell_type": "code",
   "execution_count": null,
   "metadata": {},
   "outputs": [],
   "source": [
    "l_1 = [1,5,4]\n",
    "l_2 = [2,6,3]\n",
    "answer = [1,2,3,4,5,6]\n",
    "assert merge_lists(l_1, l_2) == answer, 'Double Check your function is performing properly!'"
   ]
  },
  {
   "attachments": {},
   "cell_type": "markdown",
   "metadata": {},
   "source": [
    "### **Task 3.1: List Creation**\n",
    "Create a three seperate lists. Save these lists as:\n",
    "* `first_names`: List of 10 first names\n",
    "* `middle_names`: List of 10 middle names\n",
    "* `last_names`: List of 10 last names"
   ]
  },
  {
   "cell_type": "code",
   "execution_count": 98,
   "metadata": {},
   "outputs": [],
   "source": [
    "# YOUR CODE HERE\n",
    "\n",
    "first_names = [\"mary\", \"travis\", \"aries\", \"liza\", \"beth\", \"troy\", \"perry\", \"larry\", \"tim\", \"jim\"]\n",
    "middle_names = [\"la\", \"ta\",\"ja\",\"ra\",\"ska\",\"ya\",\"pa\",\"fa\",\"ba\", \"ma\"]\n",
    "last_names = [\"dream\", \"cream\", \"seam\", \"yeam\", \"feam\", \"leam\", \"beam\", \"neam\", \"veam\", \"meme\"]"
   ]
  },
  {
   "attachments": {},
   "cell_type": "markdown",
   "metadata": {},
   "source": [
    "### **Task 3.2: Range Function**\n",
    "Using the three lists you created in the last task, build a function named `name_generator` which takes in each of these lists as an input and performs the following:\n",
    "\n",
    "* Iterates through each list using a range\n",
    "* Creates a `full_name` variable, which has a first, middle, and last name\n",
    "* Saves the `full_name` to the list `full_names`\n",
    "* Returns the `full_names` list"
   ]
  },
  {
   "cell_type": "code",
   "execution_count": 100,
   "metadata": {},
   "outputs": [
    {
     "name": "stdout",
     "output_type": "stream",
     "text": [
      "['mary la dream', 'travis ta cream', 'aries ja seam', 'liza ra yeam', 'beth ska feam', 'troy ya leam', 'perry pa beam', 'larry fa neam', 'tim ba veam', 'jim ma meme']\n"
     ]
    }
   ],
   "source": [
    "# YOUR CODE HERE\n",
    "def name_generator(a,b,c):\n",
    "   full_names = []\n",
    "   \n",
    "   for i in range(len(a)):\n",
    "      full_names.append(a[i] + \" \" + b[i] + \" \" + c[i])\n",
    "\n",
    "   return full_names\n",
    "\n",
    "print(name_generator(first_names, middle_names, last_names))\n",
    "\n",
    "\n"
   ]
  },
  {
   "attachments": {},
   "cell_type": "markdown",
   "metadata": {},
   "source": [
    "### **Task 3 Testing**\n",
    "This cell is to test your task 3"
   ]
  },
  {
   "cell_type": "code",
   "execution_count": null,
   "metadata": {},
   "outputs": [],
   "source": [
    "# DO NOT EDIT THIS CELL\n",
    "first = ['Alex', 'Brandon', 'Nick']\n",
    "middle = ['The Rock', 'The Paper', 'The Scissors']\n",
    "last = ['Lucchesi', 'Apol', 'Fuentes']\n",
    "answer = ['Alex The Rock Lucchesi','Brandon The Paper Apol','Nick The Scissors Fuentes']\n",
    "assert name_generator(first,middle,last) == answer, 'Double check that your function is performing the way it is supposed to!'"
   ]
  },
  {
   "attachments": {},
   "cell_type": "markdown",
   "metadata": {},
   "source": [
    "### **Task 4: User Functions**\n",
    "For this task, you will create a function named `user_input` which:\n",
    "* Asks a user to input their favorite activity or type 'n'\n",
    "* Repeats until the user types 'n'\n",
    "* Stores all user inputs to a list\n",
    "* Returns that list if a print statement when user types 'n'"
   ]
  },
  {
   "cell_type": "code",
   "execution_count": 112,
   "metadata": {},
   "outputs": [
    {
     "name": "stdout",
     "output_type": "stream",
     "text": [
      "toys\n",
      "fun\n",
      "dogs\n",
      "n\n"
     ]
    }
   ],
   "source": [
    "# YOUR CODE HERE\n",
    "\n",
    "def user_input():\n",
    "    \n",
    "    while True:\n",
    "        ask = input(\"What is your favorite activity? or Type n \")\n",
    "        print(ask)\n",
    "\n",
    "        if ask.lower() == \"n\":\n",
    "            break\n",
    "\n",
    "user_input()"
   ]
  }
 ],
 "metadata": {
  "kernelspec": {
   "display_name": "Python 3",
   "language": "python",
   "name": "python3"
  },
  "language_info": {
   "codemirror_mode": {
    "name": "ipython",
    "version": 3
   },
   "file_extension": ".py",
   "mimetype": "text/x-python",
   "name": "python",
   "nbconvert_exporter": "python",
   "pygments_lexer": "ipython3",
   "version": "3.11.4"
  },
  "orig_nbformat": 4,
  "vscode": {
   "interpreter": {
    "hash": "26de051ba29f2982a8de78e945f0abaf191376122a1563185a90213a26c5da77"
   }
  }
 },
 "nbformat": 4,
 "nbformat_minor": 2
}
